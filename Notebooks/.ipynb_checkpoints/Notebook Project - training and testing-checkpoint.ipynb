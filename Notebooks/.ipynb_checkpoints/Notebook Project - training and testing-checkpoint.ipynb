{
 "cells": [
  {
   "cell_type": "code",
   "execution_count": 2,
   "metadata": {},
   "outputs": [],
   "source": [
    "import os\n",
    "import pandas as pd\n",
    "import numpy as np\n",
    "from sklearn.linear_model import LinearRegression\n",
    "from sklearn import svm\n",
    "os.chdir(\"C:/Users/Guido vd Heijden/Documents/School/Semester 3/Advanced Machine Learning/Project NotGoingToWin\")\n",
    "submission = pd.read_csv('submissions/submission_v0-001.csv') #submission as template (version is not important)"
   ]
  },
  {
   "cell_type": "code",
   "execution_count": 14,
   "metadata": {},
   "outputs": [],
   "source": [
    "# Loading files for training and testing\n",
    "\n",
    "# RMSE=3.925\n",
    "data = pd.read_csv('own_data/train_extra_features.csv')\n",
    "testdata = pd.read_csv('own_data/test_extra_features.csv')\n",
    "\n",
    "# RMSE=3.930\n",
    "# data = pd.read_csv('all/train.csv')\n",
    "# testdata = pd.read_csv('all/test.csv')\n",
    "\n",
    "# RMSE=3.948\n",
    "# Outliers removed and only the 3 given features\n",
    "# data = pd.read_csv('own_data/train_without_outliers.csv')\n",
    "# testdata = pd.read_csv('own_data/test.csv')"
   ]
  },
  {
   "cell_type": "markdown",
   "metadata": {},
   "source": [
    "## Training\n",
    "Training will be done in the following cells. First a random part of the training data is assigned as training set and the leftovers will be the validation set. By making the _trainsize_ variable round(train.shape[0]/1), the entirety of the training data is used as training set, so no evaluation will be done in the section _Testing within training set_."
   ]
  },
  {
   "cell_type": "code",
   "execution_count": 15,
   "metadata": {},
   "outputs": [],
   "source": [
    "train = np.array(data)\n",
    "np.random.shuffle(train)\n",
    "trainsize = round(train.shape[0]/2) #fraction of trainingset used for training the model\n",
    "features = train.shape[1] - 3\n",
    "\n",
    "# A part of the training set can be used as a test set,\n",
    "# so the Root Mean Squared Error can be found\n",
    "train_l = train[:trainsize,features+2]\n",
    "train_x = train[:trainsize,2:features+2]\n",
    "\n",
    "test_l = train[trainsize:,features+2]\n",
    "test_x = train[trainsize:,2:features+2]"
   ]
  },
  {
   "cell_type": "code",
   "execution_count": 16,
   "metadata": {},
   "outputs": [
    {
     "name": "stdout",
     "output_type": "stream",
     "text": [
      "               feature_1   feature_2   feature_3   fam_feature target      \n",
      "feature_1    [ 1.         -0.13096861  0.58309179 -0.11721539 -0.01425105]\n",
      "feature_2    [-0.13096861  1.          0.0609252  -0.15822695 -0.00624176]\n",
      "feature_3    [ 0.58309179  0.0609252   1.         -0.19610544 -0.00812528]\n",
      "fam_feature  [-0.11721539 -0.15822695 -0.19610544  1.          0.05046633]\n",
      "target       [-0.01425105 -0.00624176 -0.00812528  0.05046633  1.        ]\n"
     ]
    }
   ],
   "source": [
    "def CorrPrint(pandas_dataframe, numpy_array):\n",
    "    corr_matrix = np.corrcoef((train[:,2:numpy_array.shape[1]].T).astype(float))\n",
    "    \n",
    "    print(\" \"*15, sep=' ', end='', flush=True)\n",
    "    for i in range(numpy_array.shape[1]-2):\n",
    "        print(pandas_dataframe.columns[i+2], \" \"*(11 - len(pandas_dataframe.columns[i+2])), sep=' ', end='', flush=True)\n",
    "    print()\n",
    "    for i in range(numpy_array.shape[1]-2):\n",
    "        print(pandas_dataframe.columns[i+2], \" \"*(11 - len(pandas_dataframe.columns[i+2])), corr_matrix[i])\n",
    "    return\n",
    "\n",
    "CorrPrint(data,train)"
   ]
  },
  {
   "cell_type": "code",
   "execution_count": 17,
   "metadata": {},
   "outputs": [],
   "source": [
    "# Different regression models\n",
    "model_LR = LinearRegression().fit(train_x,train_l)\n",
    "\n",
    "# SVM took very long and didn't give better results\n",
    "# model_SVM = svm.SVR()\n",
    "# model_SVM.fit(train_x,train_l)\n",
    "\n",
    "model = model_LR # Selected model"
   ]
  },
  {
   "cell_type": "markdown",
   "metadata": {},
   "source": [
    "## Testing within training set"
   ]
  },
  {
   "cell_type": "code",
   "execution_count": 18,
   "metadata": {},
   "outputs": [],
   "source": [
    "def RMSerror(y,y_pred):\n",
    "    if y.shape[0] != y_pred.shape[0]:\n",
    "        print(\"Root Mean Squared Error can't be calculated if number\" \\\n",
    "              \" of predictions isn't equal to number of labels!\")\n",
    "        return\n",
    "    \n",
    "    SE = 0\n",
    "    for i in range(y.shape[0]):\n",
    "        SE += np.square(y[i] - y_pred[i])\n",
    "    \n",
    "    RMSE = np.sqrt(SE / y.shape[0])\n",
    "    return RMSE"
   ]
  },
  {
   "cell_type": "code",
   "execution_count": 19,
   "metadata": {},
   "outputs": [
    {
     "name": "stdout",
     "output_type": "stream",
     "text": [
      "3.8512453483577564\n"
     ]
    }
   ],
   "source": [
    "if test_x.shape[0] > 0:\n",
    "    predictions = model.predict(test_x)\n",
    "    print(RMSerror(test_l,predictions))\n",
    "else:\n",
    "    print(\"No testing can be performed within the training set\" \\\n",
    "         \", because the entire training set is used for the model\")"
   ]
  },
  {
   "cell_type": "markdown",
   "metadata": {},
   "source": [
    "## Predictions for test set (creating a submission .csv file)\n",
    "Make sure to use the entire training set in the the \"Training\" section"
   ]
  },
  {
   "cell_type": "code",
   "execution_count": 152,
   "metadata": {},
   "outputs": [],
   "source": [
    "testset = np.array(testdata)\n",
    "\n",
    "testset_x = testset[:,2:features+2]"
   ]
  },
  {
   "cell_type": "code",
   "execution_count": 153,
   "metadata": {},
   "outputs": [],
   "source": [
    "submission_predictions = model.predict(testset_x)"
   ]
  },
  {
   "cell_type": "code",
   "execution_count": 8,
   "metadata": {},
   "outputs": [
    {
     "name": "stdout",
     "output_type": "stream",
     "text": [
      "Submission was saved under the name:\u001b[1m submission_v0-004.csv\u001b[0;0m\n"
     ]
    }
   ],
   "source": [
    "# submission.target = submission_predictions\n",
    "\n",
    "for i in range(1,100,1):\n",
    "    if os.path.isfile('submissions/submission_v0-00' + str(i) + '.csv') == False:\n",
    "        submission.to_csv('submissions/submission_v0-00' + str(i) + '.csv', index = False)\n",
    "        print('Submission was saved under the name:' + '\\033[1m' ' submission_v0-00' + str(i) + '.csv' + '\\033[0;0m')\n",
    "        break\n",
    "\n",
    "# [Errno 13] Permission denied: 'submissions/submission_v0-001.csv'\n",
    "#        means that the file is still opened somewhere"
   ]
  },
  {
   "cell_type": "code",
   "execution_count": 26,
   "metadata": {},
   "outputs": [
    {
     "data": {
      "text/plain": [
       "-0.478885    15101\n",
       "-0.364198    15066\n",
       "-0.378989    14996\n",
       "-0.336668    14933\n",
       "-0.406518    14905\n",
       "-0.351459    14818\n",
       "-0.506415     9950\n",
       "-0.464094     5846\n",
       "-0.491624     4248\n",
       "-0.391727     4116\n",
       "-0.272955     4077\n",
       "-0.519153     2238\n",
       "-0.300485     1733\n",
       "-0.328014     1596\n",
       "Name: target, dtype: int64"
      ]
     },
     "execution_count": 26,
     "metadata": {},
     "output_type": "execute_result"
    }
   ],
   "source": [
    "# run this after previous cel to see the submission\n",
    "submission.target.value_counts()"
   ]
  },
  {
   "cell_type": "code",
   "execution_count": null,
   "metadata": {},
   "outputs": [],
   "source": []
  }
 ],
 "metadata": {
  "kernelspec": {
   "display_name": "Python 3",
   "language": "python",
   "name": "python3"
  },
  "language_info": {
   "codemirror_mode": {
    "name": "ipython",
    "version": 3
   },
   "file_extension": ".py",
   "mimetype": "text/x-python",
   "name": "python",
   "nbconvert_exporter": "python",
   "pygments_lexer": "ipython3",
   "version": "3.6.5"
  }
 },
 "nbformat": 4,
 "nbformat_minor": 2
}
