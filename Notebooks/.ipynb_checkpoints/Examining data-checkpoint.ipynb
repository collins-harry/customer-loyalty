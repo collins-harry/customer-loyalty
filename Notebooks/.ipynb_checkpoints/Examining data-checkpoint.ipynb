{
 "cells": [
  {
   "cell_type": "code",
   "execution_count": 1,
   "metadata": {},
   "outputs": [
    {
     "name": "stdout",
     "output_type": "stream",
     "text": [
      "C:\\Users\\Guido vd Heijden\\Desktop\\Customer-Loyalty\\\n"
     ]
    }
   ],
   "source": [
    "import os\n",
    "import datetime\n",
    "from os import listdir\n",
    "from os.path import isfile, join\n",
    "import pandas as pd\n",
    "import numpy as np\n",
    "if 'current_dir' in locals():\n",
    "    print(\"Directory has been set before:\")\n",
    "else:\n",
    "    current_dir = os.getcwd()[:-9] \n",
    "print(current_dir)\n",
    "os.chdir(current_dir)\n",
    "new_test_features = pd.read_csv(current_dir + 'features\\\\train_feature_fam.csv')\n",
    "new_train_features = pd.read_csv(current_dir + 'features\\\\test_feature_fam.csv')"
   ]
  },
  {
   "cell_type": "code",
   "execution_count": 2,
   "metadata": {},
   "outputs": [],
   "source": [
    "merchantscsv = pd.read_csv(current_dir + 'all\\\\merchants.csv')\n",
    "ht = pd.read_csv(current_dir + 'all\\\\historical_transactions.csv')"
   ]
  },
  {
   "cell_type": "code",
   "execution_count": 19,
   "metadata": {},
   "outputs": [],
   "source": [
    "ht_section = ht[0:100]\n",
    "merchantscsv_nodupes = merchantscsv.drop(['merchant_category_id', 'subsector_id', 'category_1', 'city_id', 'state_id', 'category_2'],axis=1)\n",
    "merchantscsv_section = merchantscsv_nodupes[0:100]"
   ]
  },
  {
   "cell_type": "code",
   "execution_count": 20,
   "metadata": {},
   "outputs": [
    {
     "data": {
      "text/plain": [
       "authorized_flag                                  Y\n",
       "card_id                            C_ID_4e6213e9bc\n",
       "city_id                                         88\n",
       "category_1                                       N\n",
       "installments                                     0\n",
       "category_3                                       A\n",
       "merchant_category_id                            80\n",
       "merchant_id                        M_ID_e020e9b302\n",
       "month_lag                                       -8\n",
       "purchase_amount                          -0.703331\n",
       "purchase_date                  2017-06-25 15:33:07\n",
       "category_2                                       1\n",
       "state_id                                        16\n",
       "subsector_id                                    37\n",
       "merchant_group_id                              NaN\n",
       "numerical_1                                    NaN\n",
       "numerical_2                                    NaN\n",
       "most_recent_sales_range                        NaN\n",
       "most_recent_purchases_range                    NaN\n",
       "avg_sales_lag3                                 NaN\n",
       "avg_purchases_lag3                             NaN\n",
       "active_months_lag3                             NaN\n",
       "avg_sales_lag6                                 NaN\n",
       "avg_purchases_lag6                             NaN\n",
       "active_months_lag6                             NaN\n",
       "avg_sales_lag12                                NaN\n",
       "avg_purchases_lag12                            NaN\n",
       "active_months_lag12                            NaN\n",
       "category_4                                     NaN\n",
       "Name: 0, dtype: object"
      ]
     },
     "execution_count": 20,
     "metadata": {},
     "output_type": "execute_result"
    }
   ],
   "source": [
    "ht_section.merge(merchantscsv_section,how=\"left\",on=\"merchant_id\").loc[0]"
   ]
  },
  {
   "cell_type": "code",
   "execution_count": 40,
   "metadata": {},
   "outputs": [],
   "source": [
    "indices_first = np.load('indices_array.npy')         # 000000-061082 190000-201917\n",
    "indices_second = np.load('indices_array_extra.npy')  # 060001-110565 180001-192021\n",
    "indices_third = np.load('indices_array_extra_2.npy') # 110000-180874"
   ]
  },
  {
   "cell_type": "code",
   "execution_count": 43,
   "metadata": {},
   "outputs": [],
   "source": [
    "indices = np.concatenate((indices_first[0:60001],indices_second[60001:110001],indices_third[110001:180001],indices_second[180001:190001],indices_first[190001:201918]),axis=0)"
   ]
  },
  {
   "cell_type": "code",
   "execution_count": 51,
   "metadata": {},
   "outputs": [],
   "source": [
    "np.save('indices_historical_trainsactions_in_train.npy',indices)"
   ]
  }
 ],
 "metadata": {
  "kernelspec": {
   "display_name": "Python 3",
   "language": "python",
   "name": "python3"
  },
  "language_info": {
   "codemirror_mode": {
    "name": "ipython",
    "version": 3
   },
   "file_extension": ".py",
   "mimetype": "text/x-python",
   "name": "python",
   "nbconvert_exporter": "python",
   "pygments_lexer": "ipython3",
   "version": "3.6.5"
  }
 },
 "nbformat": 4,
 "nbformat_minor": 2
}
