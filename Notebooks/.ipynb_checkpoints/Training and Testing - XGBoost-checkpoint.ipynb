{
 "cells": [
  {
   "cell_type": "code",
   "execution_count": 2,
   "metadata": {
    "scrolled": true
   },
   "outputs": [
    {
     "name": "stdout",
     "output_type": "stream",
     "text": [
      "/home/harry/Documents/customer-loyalty/\n"
     ]
    }
   ],
   "source": [
    "import os\n",
    "import datetime\n",
    "from os import listdir\n",
    "from os.path import isfile, join\n",
    "import pandas as pd\n",
    "import numpy as np\n",
    "from sklearn.linear_model import LinearRegression\n",
    "if 'current_dir' in locals():\n",
    "    print(\"Directory has been set before:\")\n",
    "else:\n",
    "    current_dir = os.getcwd()[:-9] \n",
    "print(current_dir)\n",
    "os.chdir(current_dir)\n",
    "submission = pd.read_csv(current_dir + 'submissions/submission_v1.csv') #submission as template (version is not important)"
   ]
  },
  {
   "cell_type": "code",
   "execution_count": 3,
   "metadata": {},
   "outputs": [
    {
     "name": "stdout",
     "output_type": "stream",
     "text": [
      "this is a test feature : test_feature_fam.csv\n",
      "this is a train feature : train_feature_fam.csv\n"
     ]
    }
   ],
   "source": [
    "# Loading files for training and testing\n",
    "\n",
    "# Load plain train data and test data:\n",
    "data = pd.read_csv('all/train.csv')\n",
    "testdata = pd.read_csv('all/test.csv')\n",
    "\n",
    "# Load all features in the folder called 'features': (comment these lines out for custom set of features)\n",
    "# for f in listdir(current_dir + \"/features\"):\n",
    "#     if (f[:4] == \"test\"):\n",
    "#         print(\"this is a test feature : \" + f)\n",
    "#         temp = pd.read_csv(current_dir + \"/features/\" + f)\n",
    "#         testdata.insert(testdata.shape[1], f[13:-4], temp[f[13:-4]] )\n",
    "#     if (f[:5] == \"train\"):\n",
    "#         print(\"this is a train feature : \" + f)\n",
    "#         temp = pd.read_csv(current_dir + \"/features/\" + f)\n",
    "#         data.insert(data.shape[1]-1, f[14:-4], temp[f[14:-4]] )\n",
    "        \n",
    "# Load a custom set of features: (comment these lines out for all features)\n",
    "feature_names = ['test_feature_fam.csv','train_feature_fam.csv']\n",
    "\n",
    "for f in feature_names:\n",
    "    if (f[:4] == \"test\"):\n",
    "        print(\"this is a test feature : \" + f)\n",
    "        temp = pd.read_csv(current_dir + \"/features/\" + f)\n",
    "        testdata.insert(testdata.shape[1], f[13:-4], temp[f[13:-4]] )\n",
    "    if (f[:5] == \"train\"):\n",
    "        print(\"this is a train feature : \" + f)\n",
    "        temp = pd.read_csv(current_dir + \"/features/\" + f)\n",
    "        data.insert(data.shape[1]-1, f[14:-4], temp[f[14:-4]] )"
   ]
  },
  {
   "cell_type": "code",
   "execution_count": 4,
   "metadata": {},
   "outputs": [
    {
     "name": "stdout",
     "output_type": "stream",
     "text": [
      "       first_active_month          card_id  feature_1  feature_2  feature_3  \\\n",
      "0                 2017-04  C_ID_0ab67a22ab          3          3          1   \n",
      "1                 2017-01  C_ID_130fd0cbdd          2          3          0   \n",
      "2                 2017-08  C_ID_b709037bc5          5          1          1   \n",
      "3                 2017-12  C_ID_d27d835a9f          2          1          0   \n",
      "4                 2015-12  C_ID_2b5e3df5c2          5          1          1   \n",
      "5                 2017-07  C_ID_5814b4f13c          5          1          1   \n",
      "6                 2017-10  C_ID_a1b3c75277          1          2          0   \n",
      "7                 2017-02  C_ID_f7cada36d3          3          1          1   \n",
      "8                 2017-07  C_ID_9d2bc8dfc4          4          3          0   \n",
      "9                 2016-03  C_ID_6d8dba8475          5          1          1   \n",
      "10                2017-03  C_ID_4859ac9ed5          5          2          1   \n",
      "11                2017-10  C_ID_0e281e8ad6          3          2          1   \n",
      "12                2016-04  C_ID_8375dfdaa2          2          2          0   \n",
      "13                2016-12  C_ID_79d149c008          4          1          0   \n",
      "14                2016-08  C_ID_7f1041e8e1          5          1          1   \n",
      "15                2017-11  C_ID_f72513589e          2          3          0   \n",
      "16                2017-12  C_ID_a7f2d6984e          4          2          0   \n",
      "17                2017-09  C_ID_15489b42d3          4          3          0   \n",
      "18                2017-11  C_ID_e457bbd71d          3          3          1   \n",
      "19                2017-01  C_ID_3f74e10c7e          2          1          0   \n",
      "20                2016-10  C_ID_48243da9c4          3          3          1   \n",
      "21                2017-06  C_ID_7ea1fcf117          2          1          0   \n",
      "22                2017-01  C_ID_22e4a47c72          4          1          0   \n",
      "23                2017-09  C_ID_5d30729184          5          1          1   \n",
      "24                2016-05  C_ID_b54cfad8b2          2          2          0   \n",
      "25                2013-03  C_ID_4b82e26faa          3          1          1   \n",
      "26                2016-04  C_ID_60a453531a          3          2          1   \n",
      "27                2017-01  C_ID_0c9315feec          3          2          1   \n",
      "28                2017-07  C_ID_1e28804d36          2          2          0   \n",
      "29                2017-01  C_ID_68de79f7e2          3          2          1   \n",
      "...                   ...              ...        ...        ...        ...   \n",
      "123593            2016-07  C_ID_cd42a5db89          2          2          0   \n",
      "123594            2017-08  C_ID_715b9a183d          3          2          1   \n",
      "123595            2017-11  C_ID_9b25df3309          2          2          0   \n",
      "123596            2017-02  C_ID_043b3c2ccd          3          2          1   \n",
      "123597            2017-01  C_ID_7685eae7b2          3          2          1   \n",
      "123598            2017-11  C_ID_7ee1a21a95          4          1          0   \n",
      "123599            2017-09  C_ID_2bf12fed6b          2          3          0   \n",
      "123600            2016-12  C_ID_2932a6ea37          1          3          0   \n",
      "123601            2017-09  C_ID_cc33d0d508          2          1          0   \n",
      "123602            2017-01  C_ID_8852708dcb          4          3          0   \n",
      "123603            2017-11  C_ID_c3e88ef62d          1          1          0   \n",
      "123604            2017-10  C_ID_650557248c          2          1          0   \n",
      "123605            2017-05  C_ID_f14af9cb56          1          1          0   \n",
      "123606            2017-07  C_ID_068dcf31e8          5          1          1   \n",
      "123607            2017-12  C_ID_6659f4625a          3          2          1   \n",
      "123608            2016-12  C_ID_dc842bba27          3          2          1   \n",
      "123609            2016-12  C_ID_bd625edce0          3          3          1   \n",
      "123610            2017-05  C_ID_278446cc2f          3          3          1   \n",
      "123611            2016-08  C_ID_ad358eb92e          5          2          1   \n",
      "123612            2016-04  C_ID_7d9bcec574          3          2          1   \n",
      "123613            2015-11  C_ID_b588b35e15          3          3          1   \n",
      "123614            2017-01  C_ID_7147e348c3          5          2          1   \n",
      "123615            2014-12  C_ID_727d3ec5da          5          1          1   \n",
      "123616            2017-05  C_ID_107d93e20c          4          1          0   \n",
      "123617            2016-10  C_ID_0e74bd4966          3          2          1   \n",
      "123618            2017-10  C_ID_7a239d2eda          2          2          0   \n",
      "123619            2017-09  C_ID_75ace375ae          3          1          1   \n",
      "123620            2016-09  C_ID_21d56d950c          5          1          1   \n",
      "123621            2017-06  C_ID_6c46fc5a9d          2          1          0   \n",
      "123622            2016-10  C_ID_87e7979a5f          5          1          1   \n",
      "\n",
      "        fam  \n",
      "0        65  \n",
      "1        62  \n",
      "2        69  \n",
      "3        73  \n",
      "4        49  \n",
      "5        68  \n",
      "6        71  \n",
      "7        63  \n",
      "8        68  \n",
      "9        52  \n",
      "10       64  \n",
      "11       71  \n",
      "12       53  \n",
      "13       61  \n",
      "14       57  \n",
      "15       72  \n",
      "16       73  \n",
      "17       70  \n",
      "18       72  \n",
      "19       62  \n",
      "20       59  \n",
      "21       67  \n",
      "22       62  \n",
      "23       70  \n",
      "24       54  \n",
      "25       16  \n",
      "26       53  \n",
      "27       62  \n",
      "28       68  \n",
      "29       62  \n",
      "...     ...  \n",
      "123593   56  \n",
      "123594   69  \n",
      "123595   72  \n",
      "123596   63  \n",
      "123597   62  \n",
      "123598   72  \n",
      "123599   70  \n",
      "123600   61  \n",
      "123601   70  \n",
      "123602   62  \n",
      "123603   72  \n",
      "123604   71  \n",
      "123605   66  \n",
      "123606   68  \n",
      "123607   73  \n",
      "123608   61  \n",
      "123609   61  \n",
      "123610   66  \n",
      "123611   57  \n",
      "123612   53  \n",
      "123613   48  \n",
      "123614   62  \n",
      "123615   37  \n",
      "123616   66  \n",
      "123617   59  \n",
      "123618   71  \n",
      "123619   70  \n",
      "123620   58  \n",
      "123621   67  \n",
      "123622   59  \n",
      "\n",
      "[123623 rows x 6 columns]\n"
     ]
    }
   ],
   "source": [
    "print(testdata)"
   ]
  },
  {
   "cell_type": "markdown",
   "metadata": {},
   "source": [
    "## Training\n",
    "Training will be done in the following cells. First a random part of the training data is assigned as training set and the leftovers will be the validation set. By making the _trainsize_ variable round(train.shape[0]/1), the entirety of the training data is used as training set, so no evaluation will be done in the section _Testing within training set_."
   ]
  },
  {
   "cell_type": "code",
   "execution_count": 5,
   "metadata": {},
   "outputs": [],
   "source": [
    "train = np.array(data)\n",
    "np.random.shuffle(train)\n",
    "trainsize = round(train.shape[0]) #fraction of trainingset used for training the model\n",
    "features = train.shape[1] - 3\n",
    "\n",
    "# A part of the training set can be used as a test set,\n",
    "# so the Root Mean Squared Error can be found\n",
    "train_l = train[:trainsize,features+2]\n",
    "train_x = train[:trainsize,2:features+2]\n",
    "\n",
    "test_l = train[trainsize:,features+2]\n",
    "test_x = train[trainsize:,2:features+2]\n"
   ]
  },
  {
   "cell_type": "code",
   "execution_count": 6,
   "metadata": {},
   "outputs": [
    {
     "name": "stdout",
     "output_type": "stream",
     "text": [
      "               feature_1   feature_2   feature_3   fam         target      \n",
      "feature_1    [ 1.         -0.13096861  0.58309179 -0.11721539 -0.01425105]\n",
      "feature_2    [-0.13096861  1.          0.0609252  -0.15822695 -0.00624176]\n",
      "feature_3    [ 0.58309179  0.0609252   1.         -0.19610544 -0.00812528]\n",
      "fam          [-0.11721539 -0.15822695 -0.19610544  1.          0.05046633]\n",
      "target       [-0.01425105 -0.00624176 -0.00812528  0.05046633  1.        ]\n"
     ]
    }
   ],
   "source": [
    "def CorrPrint(pandas_dataframe, numpy_array):\n",
    "    corr_matrix = np.corrcoef((train[:,2:numpy_array.shape[1]].T).astype(float))\n",
    "    \n",
    "    print(\" \"*15, sep=' ', end='', flush=True)\n",
    "    for i in range(numpy_array.shape[1]-2):\n",
    "        print(pandas_dataframe.columns[i+2], \" \"*(11 - len(pandas_dataframe.columns[i+2])), sep=' ', end='', flush=True)\n",
    "    print()\n",
    "    for i in range(numpy_array.shape[1]-2):\n",
    "        print(pandas_dataframe.columns[i+2], \" \"*(11 - len(pandas_dataframe.columns[i+2])), corr_matrix[i])\n",
    "    return\n",
    "\n",
    "CorrPrint(data,train)"
   ]
  },
  {
   "cell_type": "code",
   "execution_count": 7,
   "metadata": {},
   "outputs": [],
   "source": [
    "# First XGBoost model for Pima Indians dataset\n",
    "from numpy import loadtxt\n",
    "from xgboost import XGBClassifier\n",
    "from sklearn.model_selection import train_test_split\n",
    "from sklearn.metrics import accuracy_score"
   ]
  },
  {
   "cell_type": "code",
   "execution_count": 8,
   "metadata": {},
   "outputs": [],
   "source": [
    "model = XGBClassifier()"
   ]
  },
  {
   "cell_type": "code",
   "execution_count": null,
   "metadata": {},
   "outputs": [],
   "source": [
    "model.fit(train_x, train_l)"
   ]
  },
  {
   "cell_type": "markdown",
   "metadata": {},
   "source": [
    "## Predictions for test set (creating a submission .csv file)\n",
    "Make sure to use the entire training set in the the \"Training\" section"
   ]
  },
  {
   "cell_type": "code",
   "execution_count": 1,
   "metadata": {},
   "outputs": [
    {
     "ename": "NameError",
     "evalue": "name 'np' is not defined",
     "output_type": "error",
     "traceback": [
      "\u001b[0;31m---------------------------------------------------------------------------\u001b[0m",
      "\u001b[0;31mNameError\u001b[0m                                 Traceback (most recent call last)",
      "\u001b[0;32m<ipython-input-1-39445a3578f2>\u001b[0m in \u001b[0;36m<module>\u001b[0;34m()\u001b[0m\n\u001b[0;32m----> 1\u001b[0;31m \u001b[0mtestset\u001b[0m \u001b[0;34m=\u001b[0m \u001b[0mnp\u001b[0m\u001b[0;34m.\u001b[0m\u001b[0marray\u001b[0m\u001b[0;34m(\u001b[0m\u001b[0mtestdata\u001b[0m\u001b[0;34m)\u001b[0m\u001b[0;34m\u001b[0m\u001b[0;34m\u001b[0m\u001b[0m\n\u001b[0m\u001b[1;32m      2\u001b[0m \u001b[0mtestset_x\u001b[0m \u001b[0;34m=\u001b[0m \u001b[0mtestset\u001b[0m\u001b[0;34m[\u001b[0m\u001b[0;34m:\u001b[0m\u001b[0;34m,\u001b[0m\u001b[0;36m2\u001b[0m\u001b[0;34m:\u001b[0m\u001b[0mfeatures\u001b[0m\u001b[0;34m+\u001b[0m\u001b[0;36m2\u001b[0m\u001b[0;34m]\u001b[0m\u001b[0;34m\u001b[0m\u001b[0;34m\u001b[0m\u001b[0m\n\u001b[1;32m      3\u001b[0m \u001b[0;31m# make predictions for test data\u001b[0m\u001b[0;34m\u001b[0m\u001b[0;34m\u001b[0m\u001b[0;34m\u001b[0m\u001b[0m\n\u001b[1;32m      4\u001b[0m \u001b[0my_pred\u001b[0m \u001b[0;34m=\u001b[0m \u001b[0mmodel\u001b[0m\u001b[0;34m.\u001b[0m\u001b[0mpredict\u001b[0m\u001b[0;34m(\u001b[0m\u001b[0mtestset_x\u001b[0m\u001b[0;34m)\u001b[0m\u001b[0;34m\u001b[0m\u001b[0;34m\u001b[0m\u001b[0m\n\u001b[1;32m      5\u001b[0m \u001b[0mpredictions\u001b[0m \u001b[0;34m=\u001b[0m \u001b[0;34m[\u001b[0m\u001b[0mround\u001b[0m\u001b[0;34m(\u001b[0m\u001b[0mvalue\u001b[0m\u001b[0;34m)\u001b[0m \u001b[0;32mfor\u001b[0m \u001b[0mvalue\u001b[0m \u001b[0;32min\u001b[0m \u001b[0my_pred\u001b[0m\u001b[0;34m]\u001b[0m\u001b[0;34m\u001b[0m\u001b[0;34m\u001b[0m\u001b[0m\n",
      "\u001b[0;31mNameError\u001b[0m: name 'np' is not defined"
     ]
    }
   ],
   "source": [
    "testset = np.array(testdata)\n",
    "testset_x = testset[:,2:features+2]\n",
    "# make predictions for test data\n",
    "y_pred = model.predict(testset_x)\n",
    "predictions = [round(value) for value in y_pred]\n",
    "submission.target = predictions\n",
    "# # evaluate predictions\n",
    "# accuracy = accuracy_score(y_test, predictions)\n",
    "# print(\"Accuracy: %.2f%%\" % (accuracy * 100.0))"
   ]
  },
  {
   "cell_type": "code",
   "execution_count": null,
   "metadata": {},
   "outputs": [],
   "source": [
    "# submission.target = submission_predictions\n",
    "\n",
    "for i in range(1,100,1):\n",
    "    if os.path.isfile('submissions/submission_v0-00' + str(i) + '.csv') == False:\n",
    "        submission.to_csv('submissions/submission_v0-00' + str(i) + '.csv', index = False)\n",
    "        print('Submission was saved under the name:' + '\\033[1m' ' submission_v0-00' + str(i) + '.csv' + '\\033[0;0m')\n",
    "        break\n",
    "\n",
    "# [Errno 13] Permission denied: 'submissions/submission_v0-001.csv'\n",
    "#        means that the file is still opened somewhere"
   ]
  },
  {
   "cell_type": "code",
   "execution_count": 2,
   "metadata": {},
   "outputs": [
    {
     "ename": "NameError",
     "evalue": "name 'submission' is not defined",
     "output_type": "error",
     "traceback": [
      "\u001b[0;31m---------------------------------------------------------------------------\u001b[0m",
      "\u001b[0;31mNameError\u001b[0m                                 Traceback (most recent call last)",
      "\u001b[0;32m<ipython-input-2-44f76e397312>\u001b[0m in \u001b[0;36m<module>\u001b[0;34m()\u001b[0m\n\u001b[1;32m      1\u001b[0m \u001b[0;31m# run this after previous cel to see the submission\u001b[0m\u001b[0;34m\u001b[0m\u001b[0;34m\u001b[0m\u001b[0;34m\u001b[0m\u001b[0m\n\u001b[0;32m----> 2\u001b[0;31m \u001b[0msubmission\u001b[0m\u001b[0;34m\u001b[0m\u001b[0;34m\u001b[0m\u001b[0m\n\u001b[0m",
      "\u001b[0;31mNameError\u001b[0m: name 'submission' is not defined"
     ]
    }
   ],
   "source": [
    "# run this after previous cel to see the submission\n",
    "submission"
   ]
  },
  {
   "cell_type": "code",
   "execution_count": null,
   "metadata": {},
   "outputs": [],
   "source": []
  },
  {
   "cell_type": "code",
   "execution_count": null,
   "metadata": {},
   "outputs": [],
   "source": []
  }
 ],
 "metadata": {
  "kernelspec": {
   "display_name": "Python 3",
   "language": "python",
   "name": "python3"
  },
  "language_info": {
   "codemirror_mode": {
    "name": "ipython",
    "version": 3
   },
   "file_extension": ".py",
   "mimetype": "text/x-python",
   "name": "python",
   "nbconvert_exporter": "python",
   "pygments_lexer": "ipython3",
   "version": "3.7.2"
  }
 },
 "nbformat": 4,
 "nbformat_minor": 2
}
