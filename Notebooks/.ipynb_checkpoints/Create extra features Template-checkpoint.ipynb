{
 "cells": [
  {
   "cell_type": "code",
   "execution_count": 33,
   "metadata": {},
   "outputs": [
    {
     "name": "stdout",
     "output_type": "stream",
     "text": [
      "Directory has been set before:\n",
      "C:\\Users\\Guido vd Heijden\\Desktop\\Customer-Loyalty\\\n"
     ]
    }
   ],
   "source": [
    "import os\n",
    "import datetime\n",
    "from os import listdir\n",
    "from os.path import isfile, join\n",
    "import pandas as pd\n",
    "import numpy as np\n",
    "from sklearn.linear_model import LinearRegression\n",
    "if 'current_dir' in locals():\n",
    "    print(\"Directory has been set before:\")\n",
    "else:\n",
    "    current_dir = os.getcwd()[:-9] \n",
    "print(current_dir)\n",
    "os.chdir(current_dir)\n",
    "feature = pd.read_csv(current_dir + 'features\\\\train_feature_fam.csv') #submission as template (version is not important)\n",
    "new_test_features = feature.copy()\n",
    "new_train_features = feature.copy()"
   ]
  },
  {
   "cell_type": "markdown",
   "metadata": {},
   "source": [
    "## Extracting a feature that can be added to the train and test set\n",
    "In the coming cells, you will be changing the feature columns of new_test_features and new_train_features. This allows you to in the end save new features which the models can be trained on. This template makes sure that the saving happens correctly. Be sure to change the save_names variable to save your features under correct names. When saving, print statements will appear to indicate error or success."
   ]
  },
  {
   "cell_type": "code",
   "execution_count": null,
   "metadata": {},
   "outputs": [],
   "source": []
  },
  {
   "cell_type": "markdown",
   "metadata": {},
   "source": [
    "## Saving all new features to a new .csv file for each new feature in new_features\n",
    "Change save_names to save the feature columns under the correct name. They will be saved in the features folder as seperate .csv files"
   ]
  },
  {
   "cell_type": "code",
   "execution_count": 40,
   "metadata": {},
   "outputs": [],
   "source": [
    "# These are the names under which you want to save each feature column in new_features from left to right:\n",
    "save_names = ['name_for_your_feature'] # for more feature columns, this would be like: ['new_feature_one', 'new_feature_two']"
   ]
  },
  {
   "cell_type": "code",
   "execution_count": 43,
   "metadata": {},
   "outputs": [
    {
     "name": "stdout",
     "output_type": "stream",
     "text": [
      "The variable save_names does not exist, \u001b[1mor\u001b[0;0m there isn't an equal amount of features as save_names, \u001b[1mor\u001b[0;0m the new_test_features dataframe doesn't have an equal amount of column features as the new_train_features dataframe.\n"
     ]
    }
   ],
   "source": [
    "feature_dir = listdir(current_dir + \"\\\\features\")\n",
    "\n",
    "if ('save_names' in locals() and len(save_names) == new_test_features.shape[1] - 1 and new_test_features.shape[1] == new_train_features.shape[1]):\n",
    "    for i in range(1,new_test_features.shape[1]):\n",
    "        feature[feature.columns[1]] = new_test_features[new_test_features.columns[i]]\n",
    "        save_name = 'test_feature_' + save_names[i-1] + '.csv'\n",
    "        feature_already_exists = False\n",
    "        for f in feature_dir:\n",
    "            if (f == save_name):\n",
    "                feature_already_exists = True\n",
    "                print('Test feature ' + '\\033[1m' + save_name + '\\033[0;0m' + ' was not saved, because it already exists.')\n",
    "        if not feature_already_exists:\n",
    "            feature.to_csv(current_dir + 'features/' + save_name, index = False)\n",
    "            print('Test feature was saved under the name:' + '\\033[1m' + save_name + '\\033[0;0m')\n",
    "    for i in range(1,new_train_features.shape[1]):\n",
    "        feature[feature.columns[1]] = new_train_features[new_train_features.columns[i]]\n",
    "        save_name = 'train_feature_' + save_names[i-1] + '.csv'\n",
    "        feature_already_exists = False\n",
    "        for f in feature_dir:\n",
    "            if (f == save_name):\n",
    "                feature_already_exists = True\n",
    "                print('Test feature ' + '\\033[1m' + save_name + '\\033[0;0m' + ' was not saved, because it already exists.')\n",
    "        if not feature_already_exists:\n",
    "            feature.to_csv(current_dir + 'features/' + save_name, index = False)\n",
    "            print('Train feature was saved under the name:' + '\\033[1m' + save_name + '\\033[0;0m')\n",
    "else:\n",
    "    print(\"The variable save_names does not exist, \\033[1mor\\033[0;0m there isn't an equal amount of features as save_names, \\033[1mor\\033[0;0m the new_test_features dataframe doesn't have an equal amount of column features as the new_train_features dataframe.\")"
   ]
  },
  {
   "cell_type": "code",
   "execution_count": null,
   "metadata": {},
   "outputs": [],
   "source": []
  }
 ],
 "metadata": {
  "kernelspec": {
   "display_name": "Python 3",
   "language": "python",
   "name": "python3"
  },
  "language_info": {
   "codemirror_mode": {
    "name": "ipython",
    "version": 3
   },
   "file_extension": ".py",
   "mimetype": "text/x-python",
   "name": "python",
   "nbconvert_exporter": "python",
   "pygments_lexer": "ipython3",
   "version": "3.6.5"
  }
 },
 "nbformat": 4,
 "nbformat_minor": 2
}
