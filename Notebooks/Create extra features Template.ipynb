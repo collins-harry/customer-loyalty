{
 "cells": [
  {
   "cell_type": "code",
   "execution_count": 68,
   "metadata": {},
   "outputs": [
    {
     "name": "stdout",
     "output_type": "stream",
     "text": [
      "Directory has been set before:\n",
      "C:\\Users\\Guido vd Heijden\\Desktop\\Customer-Loyalty\\\n"
     ]
    }
   ],
   "source": [
    "import os\n",
    "import datetime\n",
    "from os import listdir\n",
    "from os.path import isfile, join\n",
    "import pandas as pd\n",
    "import numpy as np\n",
    "if 'current_dir' in locals():\n",
    "    print(\"Directory has been set before:\")\n",
    "else:\n",
    "    current_dir = os.getcwd()[:-9] \n",
    "print(current_dir)\n",
    "os.chdir(current_dir)\n",
    "feature = pd.read_csv(current_dir + 'features\\\\train_feature_fam.csv')\n",
    "new_test_features = pd.read_csv(current_dir + 'features\\\\test_feature_fam.csv')\n",
    "new_train_features = pd.read_csv(current_dir + 'features\\\\train_feature_fam.csv')"
   ]
  },
  {
   "cell_type": "markdown",
   "metadata": {},
   "source": [
    "## Extracting a feature that can be added to the train and test set\n",
    "In the coming cells, you will be changing the feature columns of new_test_features and new_train_features. This allows you to in the end save new features which the models can be trained on. This template makes sure that the saving happens correctly. Be sure to change the save_names variable to save your features under correct names. When saving, print statements will appear to indicate error or success."
   ]
  },
  {
   "cell_type": "code",
   "execution_count": 3,
   "metadata": {},
   "outputs": [],
   "source": [
    "ht = pd.read_csv(current_dir + 'all\\\\historical_transactions.csv')\n",
    "trainpd = pd.read_csv(current_dir + 'all\\\\train.csv')\n",
    "trainnp = np.array(trainpd)\n",
    "testpd = pd.read_csv(current_dir + 'all\\\\train.csv')\n",
    "testnp = np.array(trainpd)\n",
    "\n",
    "indices_train = np.load('indices_historical_trainsactions_in_train.npy')"
   ]
  },
  {
   "cell_type": "code",
   "execution_count": 105,
   "metadata": {},
   "outputs": [
    {
     "data": {
      "text/plain": [
       "\"\\navg_purchase_array = np.zeros(indices_train.shape[0])\\n\\nfor i in range(indices_train.shape[0]):\\n    testingarray = np.array(ht['purchase_amount'][int(indices_train[i,0]):int(indices_train[i,1])])\\n    avg_purchase_array[i] = testingarray.sum()\\n    print(i)\\n    \\nprint(avg_purchase_array)\\n\""
      ]
     },
     "execution_count": 105,
     "metadata": {},
     "output_type": "execute_result"
    }
   ],
   "source": [
    "# EXAMPLE OF FEATURE EXTRACTION: extracting the average purchase of each card id in the historical transactions for the training set\n",
    "\n",
    "\n",
    "# avg_purchase_array = np.zeros(indices_train.shape[0])\n",
    "\n",
    "# for i in range(indices_train.shape[0]):\n",
    "#     testingarray = np.array(ht['purchase_amount'][int(indices_train[i,0]):int(indices_train[i,1])])\n",
    "#     avg_purchase_array[i] = testingarray.sum()\n",
    "#     print(i)\n",
    "    \n",
    "# print(avg_purchase_array)\n",
    "\n",
    "# avg_purchase_dataframe = pd.DataFrame(avg_purchase_array,columns=['avg_purchase'])"
   ]
  },
  {
   "cell_type": "markdown",
   "metadata": {},
   "source": [
    "## Saving all new features to a new .csv file for each new feature in new_features\n",
    "Change save_names to save the feature columns under the correct name. They will be saved in the features folder as seperate .csv files"
   ]
  },
  {
   "cell_type": "code",
   "execution_count": 40,
   "metadata": {},
   "outputs": [],
   "source": [
    "# These are the names under which you want to save each feature column in new_features from left to right:\n",
    "save_names = ['name_for_your_feature'] # for more feature columns, this would be like: ['new_feature_one', 'new_feature_two']"
   ]
  },
  {
   "cell_type": "code",
   "execution_count": 103,
   "metadata": {},
   "outputs": [
    {
     "data": {
      "text/plain": [
       "0        -165.968739\n",
       "1        -210.006336\n",
       "2         -29.167391\n",
       "3         -49.491364\n",
       "4         -48.687656\n",
       "5         -13.776231\n",
       "6        -185.421581\n",
       "7         -13.565845\n",
       "8          -8.708374\n",
       "9         -76.997124\n",
       "10        -61.372361\n",
       "11        -12.430426\n",
       "12        -23.702279\n",
       "13        -12.504237\n",
       "14        -37.087941\n",
       "15       -121.380195\n",
       "16        -72.867583\n",
       "17        -50.215206\n",
       "18        -15.081614\n",
       "19       -319.562275\n",
       "20       -112.352057\n",
       "21          0.475319\n",
       "22         -8.410774\n",
       "23        -87.420594\n",
       "24       -102.323874\n",
       "25        -95.505113\n",
       "26        -63.320939\n",
       "27        -11.666343\n",
       "28        -67.420097\n",
       "29        -71.398891\n",
       "             ...    \n",
       "201887   -126.337291\n",
       "201888   -326.977197\n",
       "201889   -150.618046\n",
       "201890   -304.696081\n",
       "201891    -50.120765\n",
       "201892    -18.779609\n",
       "201893     -3.819304\n",
       "201894    -45.553742\n",
       "201895    -33.813303\n",
       "201896   -153.835868\n",
       "201897    -24.099129\n",
       "201898    -99.496094\n",
       "201899      7.695558\n",
       "201900   -252.506781\n",
       "201901    -64.055315\n",
       "201902   -256.852479\n",
       "201903   -107.971543\n",
       "201904    -36.459502\n",
       "201905   -164.003677\n",
       "201906    -77.747367\n",
       "201907    -12.029564\n",
       "201908     -9.822320\n",
       "201909    -11.352845\n",
       "201910    -19.121402\n",
       "201911     -4.105694\n",
       "201912    -32.625247\n",
       "201913    -33.432922\n",
       "201914    -33.187479\n",
       "201915    -17.888957\n",
       "201916    -83.037556\n",
       "Name: avg_purchase, Length: 201917, dtype: float64"
      ]
     },
     "execution_count": 103,
     "metadata": {},
     "output_type": "execute_result"
    }
   ],
   "source": [
    "# Make sure that all the new features\n",
    "new_train_features[new_train_features.columns[1]] = # column for first new feature; e.g.\n",
    "new_train_features[new_train_features.columns[2]] = # column for second new feature\n",
    "    # et cetera"
   ]
  },
  {
   "cell_type": "code",
   "execution_count": 96,
   "metadata": {},
   "outputs": [
    {
     "name": "stdout",
     "output_type": "stream",
     "text": [
      "Train feature was saved under the name:\u001b[1mtrain_feature_avg_purchase.csv\u001b[0;0m\n"
     ]
    }
   ],
   "source": [
    "feature_dir = listdir(current_dir + \"\\\\features\")\n",
    "for i in range(1,new_train_features.shape[1]):\n",
    "    feature[feature.columns[1]] = new_train_features[new_train_features.columns[i]]\n",
    "    feature.columns = ['card_id', save_names[i-1]]\n",
    "    save_name = 'train_feature_' + save_names[i-1] + '.csv'\n",
    "    feature_already_exists = False\n",
    "    for f in feature_dir:\n",
    "        if (f == save_name):\n",
    "            feature_already_exists = True\n",
    "            print('Test feature ' + '\\033[1m' + save_name + '\\033[0;0m' + ' was not saved, because it already exists.')\n",
    "    if not feature_already_exists:\n",
    "        feature.to_csv(current_dir + 'features/' + save_name, index = False)\n",
    "        print('Train feature was saved under the name:' + '\\033[1m' + save_name + '\\033[0;0m')"
   ]
  },
  {
   "cell_type": "code",
   "execution_count": 43,
   "metadata": {},
   "outputs": [
    {
     "name": "stdout",
     "output_type": "stream",
     "text": [
      "The variable save_names does not exist, \u001b[1mor\u001b[0;0m there isn't an equal amount of features as save_names, \u001b[1mor\u001b[0;0m the new_test_features dataframe doesn't have an equal amount of column features as the new_train_features dataframe.\n"
     ]
    }
   ],
   "source": [
    "feature_dir = listdir(current_dir + \"\\\\features\")\n",
    "\n",
    "if ('save_names' in locals() and len(save_names) == new_test_features.shape[1] - 1 and new_test_features.shape[1] == new_train_features.shape[1]):\n",
    "    for i in range(1,new_test_features.shape[1]):\n",
    "        feature[feature.columns[1]] = new_test_features[new_test_features.columns[i]]\n",
    "        feature.columns = ['card_id', save_names[i-1]]\n",
    "        save_name = 'test_feature_' + save_names[i-1] + '.csv'\n",
    "        feature_already_exists = False\n",
    "        for f in feature_dir:\n",
    "            if (f == save_name):\n",
    "                feature_already_exists = True\n",
    "                print('Test feature ' + '\\033[1m' + save_name + '\\033[0;0m' + ' was not saved, because it already exists.')\n",
    "        if not feature_already_exists:\n",
    "            feature.to_csv(current_dir + 'features/' + save_name, index = False)\n",
    "            print('Test feature was saved under the name:' + '\\033[1m' + save_name + '\\033[0;0m')\n",
    "    for i in range(1,new_train_features.shape[1]):\n",
    "        feature[feature.columns[1]] = new_train_features[new_train_features.columns[i]]\n",
    "        feature.columns = ['card_id', save_names[i-1]]\n",
    "        save_name = 'train_feature_' + save_names[i-1] + '.csv'\n",
    "        feature_already_exists = False\n",
    "        for f in feature_dir:\n",
    "            if (f == save_name):\n",
    "                feature_already_exists = True\n",
    "                print('Test feature ' + '\\033[1m' + save_name + '\\033[0;0m' + ' was not saved, because it already exists.')\n",
    "        if not feature_already_exists:\n",
    "            feature.to_csv(current_dir + 'features/' + save_name, index = False)\n",
    "            print('Train feature was saved under the name:' + '\\033[1m' + save_name + '\\033[0;0m')\n",
    "else:\n",
    "    print(\"The variable save_names does not exist, \\033[1mor\\033[0;0m there isn't an equal amount of features as save_names, \\033[1mor\\033[0;0m the new_test_features dataframe doesn't have an equal amount of column features as the new_train_features dataframe.\")"
   ]
  },
  {
   "cell_type": "code",
   "execution_count": null,
   "metadata": {},
   "outputs": [],
   "source": []
  }
 ],
 "metadata": {
  "kernelspec": {
   "display_name": "Python 3",
   "language": "python",
   "name": "python3"
  },
  "language_info": {
   "codemirror_mode": {
    "name": "ipython",
    "version": 3
   },
   "file_extension": ".py",
   "mimetype": "text/x-python",
   "name": "python",
   "nbconvert_exporter": "python",
   "pygments_lexer": "ipython3",
   "version": "3.6.5"
  }
 },
 "nbformat": 4,
 "nbformat_minor": 2
}
