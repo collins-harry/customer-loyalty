{
 "cells": [
  {
   "cell_type": "code",
   "execution_count": 179,
   "metadata": {},
   "outputs": [
    {
     "name": "stdout",
     "output_type": "stream",
     "text": [
      "Directory has been set before:\n",
      "C:\\Users\\Guido vd Heijden\\Desktop\\Customer-Loyalty\\\n"
     ]
    }
   ],
   "source": [
    "import os\n",
    "import datetime\n",
    "from os import listdir\n",
    "from os.path import isfile, join\n",
    "import pandas as pd\n",
    "import numpy as np\n",
    "if 'current_dir' in locals():\n",
    "    print(\"Directory has been set before:\")\n",
    "else:\n",
    "    current_dir = os.getcwd()[:-9] \n",
    "print(current_dir)\n",
    "os.chdir(current_dir)\n",
    "feature = pd.read_csv(current_dir + 'features/train_feature_fam.csv')\n",
    "new_test_features = pd.read_csv(current_dir + 'features/test_feature_fam.csv')\n",
    "new_test_features = new_test_features.drop(columns='fam')\n",
    "new_train_features = pd.read_csv(current_dir + 'features/train_feature_fam.csv')\n",
    "new_train_features = new_train_features.drop(columns='fam')"
   ]
  },
  {
   "cell_type": "markdown",
   "metadata": {},
   "source": [
    "## Extracting a feature that can be added to the train and test set\n",
    "In the coming cells, you will be changing the feature columns of new_test_features and new_train_features. This allows you to in the end save new features which the models can be trained on. This template makes sure that the saving happens correctly. Be sure to change the save_names variable to save your features under correct names. When saving, print statements will appear to indicate error or success. **Examples can be find below**"
   ]
  },
  {
   "cell_type": "code",
   "execution_count": 3,
   "metadata": {},
   "outputs": [
    {
     "data": {
      "text/plain": [
       "Index(['authorized_flag', 'card_id', 'city_id', 'category_1', 'installments',\n",
       "       'category_3', 'merchant_category_id', 'merchant_id', 'month_lag',\n",
       "       'purchase_amount', 'purchase_date', 'category_2', 'state_id',\n",
       "       'subsector_id', 'merchant_group_id', 'numerical_1', 'numerical_2',\n",
       "       'most_recent_sales_range', 'most_recent_purchases_range',\n",
       "       'avg_sales_lag3', 'avg_purchases_lag3', 'active_months_lag3',\n",
       "       'avg_sales_lag6', 'avg_purchases_lag6', 'active_months_lag6',\n",
       "       'avg_sales_lag12', 'avg_purchases_lag12', 'active_months_lag12',\n",
       "       'category_4'],\n",
       "      dtype='object')"
      ]
     },
     "execution_count": 3,
     "metadata": {},
     "output_type": "execute_result"
    }
   ],
   "source": [
    "ht = pd.read_csv(current_dir + 'all/historical_transactions_merchants_merged.csv') # Note that this also includes extra merchant info\n",
    "trainpd = pd.read_csv(current_dir + 'all/train.csv')\n",
    "trainnp = np.array(trainpd)\n",
    "testpd = pd.read_csv(current_dir + 'all/test.csv')\n",
    "testnp = np.array(testpd)\n",
    "\n",
    "indices_train = np.load('indices_historical_trainsactions_in_train.npy')\n",
    "indices_test = np.load('indices_historical_trainsactions_in_test.npy')\n",
    "ht.columns"
   ]
  },
  {
   "cell_type": "code",
   "execution_count": 185,
   "metadata": {
    "scrolled": false
   },
   "outputs": [
    {
     "name": "stdout",
     "output_type": "stream",
     "text": [
      "A\n",
      "A\n",
      "B\n",
      "B\n",
      "B\n",
      "A\n",
      "A\n",
      "B\n",
      "A\n",
      "A\n"
     ]
    }
   ],
   "source": [
    "for i in range(10):\n",
    "    testingdf = ht['category_3'][int(indices_test[i,0]):int(indices_test[i,1])]\n",
    "    print(testingdf.mode()[0])"
   ]
  },
  {
   "cell_type": "code",
   "execution_count": 180,
   "metadata": {},
   "outputs": [
    {
     "name": "stdout",
     "output_type": "stream",
     "text": [
      "0 out of 201917\n",
      "10000 out of 201917\n",
      "20000 out of 201917\n",
      "30000 out of 201917\n",
      "40000 out of 201917\n",
      "50000 out of 201917\n",
      "60000 out of 201917\n",
      "70000 out of 201917\n",
      "80000 out of 201917\n",
      "90000 out of 201917\n",
      "100000 out of 201917\n",
      "110000 out of 201917\n",
      "120000 out of 201917\n",
      "130000 out of 201917\n",
      "140000 out of 201917\n",
      "150000 out of 201917\n",
      "160000 out of 201917\n",
      "170000 out of 201917\n",
      "180000 out of 201917\n",
      "190000 out of 201917\n",
      "200000 out of 201917\n",
      "    Part of new train feature :\n",
      "           card_id  feature_1_hotkeyed  feature_1_hotkeyed  feature_1_hotkeyed\n",
      "0  C_ID_92a2005557                 0.0                 1.0                 0.0\n",
      "1  C_ID_3d0044924f                 0.0                 1.0                 0.0\n",
      "2  C_ID_d639edf6cd                 0.0                 0.0                 1.0\n",
      "3  C_ID_186d6a6901                 0.0                 1.0                 0.0\n",
      "4  C_ID_cdbd2c0db2                 0.0                 1.0                 0.0\n",
      "5  C_ID_0894217f2f                 1.0                 0.0                 0.0\n",
      "6  C_ID_7e63323c00                 0.0                 1.0                 0.0\n",
      "7  C_ID_dfa21fc124                 0.0                 1.0                 0.0\n",
      "8  C_ID_fe0fdac8ea                 1.0                 0.0                 0.0\n",
      "9  C_ID_bf62c0b49d                 1.0                 0.0                 0.0\n",
      "-----------------------------------------------\n"
     ]
    }
   ],
   "source": [
    "train_feature_array = np.zeros((indices_train.shape[0],3))\n",
    "\n",
    "for i in range(indices_train.shape[0]):\n",
    "    testingdf = ht['category_3'][int(indices_train[i,0]):int(indices_train[i,1])]\n",
    "    if(testingdf.mode()[0] == 'A'): \n",
    "        train_feature_array[i,0] = 1\n",
    "        train_feature_array[i,1:3] = 0\n",
    "    if(testingdf.mode()[0] == 'B'): \n",
    "        train_feature_array[i,0] = 0\n",
    "        train_feature_array[i,1] = 1\n",
    "        train_feature_array[i,2] = 0\n",
    "    if(testingdf.mode()[0] == 'C'): \n",
    "        train_feature_array[i,0:2] = 0\n",
    "        train_feature_array[i,2] = 1\n",
    "    if(i % 10000 == 0): print(str(i) + \" out of \" + str(indices_train.shape[0])) #To keep track of progress\n",
    "\n",
    "for i in range(3):\n",
    "    new_train_features.insert(loc=new_train_features.columns.size, column=\"feature_1_hotkeyed\", value=train_feature_array[:,i], allow_duplicates=True)\n",
    "print(\"    Part of new train feature :\")\n",
    "print(new_train_features[:10])\n",
    "print(\"-----------------------------------------------\")"
   ]
  },
  {
   "cell_type": "code",
   "execution_count": 184,
   "metadata": {},
   "outputs": [
    {
     "name": "stdout",
     "output_type": "stream",
     "text": [
      "0 out of 123623\n",
      "10000 out of 123623\n",
      "20000 out of 123623\n",
      "30000 out of 123623\n",
      "40000 out of 123623\n",
      "50000 out of 123623\n",
      "60000 out of 123623\n",
      "70000 out of 123623\n",
      "80000 out of 123623\n",
      "90000 out of 123623\n",
      "100000 out of 123623\n",
      "110000 out of 123623\n",
      "120000 out of 123623\n",
      "    Part of new test feature :\n",
      "           card_id  feature_1_hotkeyed  feature_1_hotkeyed  feature_1_hotkeyed\n",
      "0  C_ID_0ab67a22ab                 1.0                 0.0                 0.0\n",
      "1  C_ID_130fd0cbdd                 1.0                 0.0                 0.0\n",
      "2  C_ID_b709037bc5                 0.0                 1.0                 0.0\n",
      "3  C_ID_d27d835a9f                 0.0                 1.0                 0.0\n",
      "4  C_ID_2b5e3df5c2                 0.0                 1.0                 0.0\n",
      "5  C_ID_5814b4f13c                 1.0                 0.0                 0.0\n",
      "6  C_ID_a1b3c75277                 1.0                 0.0                 0.0\n",
      "7  C_ID_f7cada36d3                 0.0                 1.0                 0.0\n",
      "8  C_ID_9d2bc8dfc4                 1.0                 0.0                 0.0\n",
      "9  C_ID_6d8dba8475                 1.0                 0.0                 0.0\n",
      "-----------------------------------------------\n"
     ]
    }
   ],
   "source": [
    "test_feature_array = np.zeros((indices_test.shape[0],3))\n",
    "\n",
    "for i in range(indices_test.shape[0]):\n",
    "    testingdf = ht['category_3'][int(indices_test[i,0]):int(indices_test[i,1])]\n",
    "    if(testingdf.mode()[0] == 'A'): \n",
    "        test_feature_array[i,0] = 1\n",
    "        test_feature_array[i,1:3] = 0\n",
    "    if(testingdf.mode()[0] == 'B'): \n",
    "        test_feature_array[i,0] = 0\n",
    "        test_feature_array[i,1] = 1\n",
    "        test_feature_array[i,2] = 0\n",
    "    if(testingdf.mode()[0] == 'C'): \n",
    "        test_feature_array[i,0:2] = 0\n",
    "        test_feature_array[i,2] = 1\n",
    "    if(i % 10000 == 0): print(str(i) + \" out of \" + str(indices_test.shape[0])) #To keep track of progress\n",
    "\n",
    "for i in range(3):\n",
    "    new_test_features.insert(loc=new_test_features.columns.size, column=\"feature_1_hotkeyed\", value=test_feature_array[:,i], allow_duplicates=True)\n",
    "print(\"    Part of new test feature :\")\n",
    "print(new_test_features[:10])\n",
    "print(\"-----------------------------------------------\")"
   ]
  },
  {
   "cell_type": "markdown",
   "metadata": {},
   "source": [
    "## Examples:"
   ]
  },
  {
   "cell_type": "code",
   "execution_count": 30,
   "metadata": {
    "collapsed": true
   },
   "outputs": [
    {
     "name": "stdout",
     "output_type": "stream",
     "text": [
      "0 out of 201917\n",
      "10000 out of 201917\n",
      "20000 out of 201917\n",
      "30000 out of 201917\n",
      "40000 out of 201917\n",
      "50000 out of 201917\n",
      "60000 out of 201917\n",
      "70000 out of 201917\n",
      "80000 out of 201917\n",
      "90000 out of 201917\n",
      "100000 out of 201917\n",
      "110000 out of 201917\n",
      "120000 out of 201917\n",
      "130000 out of 201917\n",
      "140000 out of 201917\n",
      "150000 out of 201917\n",
      "160000 out of 201917\n",
      "170000 out of 201917\n",
      "180000 out of 201917\n",
      "190000 out of 201917\n",
      "200000 out of 201917\n",
      "    Part of new train feature :\n",
      "           card_id  feature_1_hotkeyed  feature_1_hotkeyed  \\\n",
      "0  C_ID_92a2005557                 0.0                 0.0   \n",
      "1  C_ID_3d0044924f                 0.0                 0.0   \n",
      "2  C_ID_d639edf6cd                 0.0                 1.0   \n",
      "3  C_ID_186d6a6901                 0.0                 0.0   \n",
      "4  C_ID_cdbd2c0db2                 1.0                 0.0   \n",
      "5  C_ID_0894217f2f                 0.0                 0.0   \n",
      "6  C_ID_7e63323c00                 0.0                 0.0   \n",
      "7  C_ID_dfa21fc124                 0.0                 0.0   \n",
      "8  C_ID_fe0fdac8ea                 0.0                 1.0   \n",
      "9  C_ID_bf62c0b49d                 0.0                 1.0   \n",
      "\n",
      "   feature_1_hotkeyed  feature_1_hotkeyed  feature_1_hotkeyed  \n",
      "0                 0.0                 0.0                 1.0  \n",
      "1                 0.0                 1.0                 0.0  \n",
      "2                 0.0                 0.0                 0.0  \n",
      "3                 0.0                 1.0                 0.0  \n",
      "4                 0.0                 0.0                 0.0  \n",
      "5                 0.0                 1.0                 0.0  \n",
      "6                 1.0                 0.0                 0.0  \n",
      "7                 1.0                 0.0                 0.0  \n",
      "8                 0.0                 0.0                 0.0  \n",
      "9                 0.0                 0.0                 0.0  \n",
      "-----------------------------------------------\n"
     ]
    }
   ],
   "source": [
    "# EXAMPLE OF ONEHOTENCODING FEATURE: feature_1 in the training set\n",
    "\n",
    "train_feature_array = np.zeros((trainnp.shape[0],5))\n",
    "\n",
    "for i in range(trainnp.shape[0]):\n",
    "    if(trainnp[i,2] == 1): \n",
    "        train_feature_array[i,0] = 1\n",
    "        train_feature_array[i,1:5] = 0\n",
    "    if(trainnp[i,2] == 2): \n",
    "        train_feature_array[i,0] = 0\n",
    "        train_feature_array[i,1] = 1\n",
    "        train_feature_array[i,2:5] = 0\n",
    "    if(trainnp[i,2] == 3): \n",
    "        train_feature_array[i,0:2] = 0\n",
    "        train_feature_array[i,2] = 1\n",
    "        train_feature_array[i,3:5] = 0\n",
    "    if(trainnp[i,2] == 4): \n",
    "        train_feature_array[i,0:3] = 0\n",
    "        train_feature_array[i,3] = 1\n",
    "        train_feature_array[i,4:5] = 0\n",
    "    if(trainnp[i,2] == 5): \n",
    "        train_feature_array[i,0:4] = 0\n",
    "        train_feature_array[i,4] = 1\n",
    "    if(i % 10000 == 0): print(str(i) + \" out of \" + str(trainnp.shape[0])) #To keep track of progress\n",
    "\n",
    "for i in range(5):\n",
    "    new_train_features.insert(loc=new_train_features.columns.size, column=\"feature_1_hotkeyed\", value=train_feature_array[:,i], allow_duplicates=True)\n",
    "print(\"    Part of new train feature :\")\n",
    "print(new_train_features[:10])\n",
    "print(\"-----------------------------------------------\")"
   ]
  },
  {
   "cell_type": "code",
   "execution_count": 31,
   "metadata": {
    "collapsed": true
   },
   "outputs": [
    {
     "name": "stdout",
     "output_type": "stream",
     "text": [
      "0 out of 123623\n",
      "10000 out of 123623\n",
      "20000 out of 123623\n",
      "30000 out of 123623\n",
      "40000 out of 123623\n",
      "50000 out of 123623\n",
      "60000 out of 123623\n",
      "70000 out of 123623\n",
      "80000 out of 123623\n",
      "90000 out of 123623\n",
      "100000 out of 123623\n",
      "110000 out of 123623\n",
      "120000 out of 123623\n",
      "    Part of new test feature :\n",
      "           card_id  feature_1_hotkeyed  feature_1_hotkeyed  \\\n",
      "0  C_ID_0ab67a22ab                 0.0                 0.0   \n",
      "1  C_ID_130fd0cbdd                 0.0                 1.0   \n",
      "2  C_ID_b709037bc5                 0.0                 0.0   \n",
      "3  C_ID_d27d835a9f                 0.0                 1.0   \n",
      "4  C_ID_2b5e3df5c2                 0.0                 0.0   \n",
      "5  C_ID_5814b4f13c                 0.0                 0.0   \n",
      "6  C_ID_a1b3c75277                 1.0                 0.0   \n",
      "7  C_ID_f7cada36d3                 0.0                 0.0   \n",
      "8  C_ID_9d2bc8dfc4                 0.0                 0.0   \n",
      "9  C_ID_6d8dba8475                 0.0                 0.0   \n",
      "\n",
      "   feature_1_hotkeyed  feature_1_hotkeyed  feature_1_hotkeyed  \n",
      "0                 1.0                 0.0                 0.0  \n",
      "1                 0.0                 0.0                 0.0  \n",
      "2                 0.0                 0.0                 1.0  \n",
      "3                 0.0                 0.0                 0.0  \n",
      "4                 0.0                 0.0                 1.0  \n",
      "5                 0.0                 0.0                 1.0  \n",
      "6                 0.0                 0.0                 0.0  \n",
      "7                 1.0                 0.0                 0.0  \n",
      "8                 0.0                 1.0                 0.0  \n",
      "9                 0.0                 0.0                 1.0  \n",
      "-----------------------------------------------\n"
     ]
    }
   ],
   "source": [
    "# EXAMPLE OF ONEHOTENCODING FEATURE: feature_1 in the test set\n",
    "\n",
    "test_feature_array = np.zeros((testnp.shape[0],5))\n",
    "\n",
    "for i in range(testnp.shape[0]):\n",
    "    if(testnp[i,2] == 1): \n",
    "        test_feature_array[i,0] = 1\n",
    "        test_feature_array[i,1:5] = 0\n",
    "    if(testnp[i,2] == 2): \n",
    "        test_feature_array[i,0] = 0\n",
    "        test_feature_array[i,1] = 1\n",
    "        test_feature_array[i,2:5] = 0\n",
    "    if(testnp[i,2] == 3): \n",
    "        test_feature_array[i,0:2] = 0\n",
    "        test_feature_array[i,2] = 1\n",
    "        test_feature_array[i,3:5] = 0\n",
    "    if(testnp[i,2] == 4): \n",
    "        test_feature_array[i,0:3] = 0\n",
    "        test_feature_array[i,3] = 1\n",
    "        test_feature_array[i,4:5] = 0\n",
    "    if(testnp[i,2] == 5): \n",
    "        test_feature_array[i,0:4] = 0\n",
    "        test_feature_array[i,4] = 1\n",
    "    if(i % 10000 == 0): print(str(i) + \" out of \" + str(testnp.shape[0])) #To keep track of progress\n",
    "\n",
    "for i in range(5):\n",
    "    new_test_features.insert(loc=new_test_features.columns.size, column=\"feature_1_hotkeyed\", value=test_feature_array[:,i], allow_duplicates=True)\n",
    "print(\"    Part of new test feature :\")\n",
    "print(new_test_features[:10])\n",
    "print(\"-----------------------------------------------\")"
   ]
  },
  {
   "cell_type": "code",
   "execution_count": 50,
   "metadata": {
    "collapsed": true
   },
   "outputs": [
    {
     "name": "stdout",
     "output_type": "stream",
     "text": [
      "0 out of 201917\n",
      "10000 out of 201917\n",
      "20000 out of 201917\n",
      "30000 out of 201917\n",
      "40000 out of 201917\n",
      "50000 out of 201917\n",
      "60000 out of 201917\n",
      "70000 out of 201917\n",
      "80000 out of 201917\n",
      "90000 out of 201917\n",
      "100000 out of 201917\n",
      "110000 out of 201917\n",
      "120000 out of 201917\n",
      "130000 out of 201917\n",
      "140000 out of 201917\n",
      "150000 out of 201917\n",
      "160000 out of 201917\n",
      "170000 out of 201917\n",
      "180000 out of 201917\n",
      "190000 out of 201917\n",
      "200000 out of 201917\n",
      "    Part of new train feature :\n",
      "           card_id  a feature\n",
      "0  C_ID_92a2005557  -0.580909\n",
      "1  C_ID_3d0044924f  -0.650174\n",
      "2  C_ID_d639edf6cd  -0.371882\n",
      "3  C_ID_186d6a6901  -0.633520\n",
      "4  C_ID_cdbd2c0db2  -0.598898\n",
      "5  C_ID_0894217f2f  -0.699126\n",
      "6  C_ID_7e63323c00  -0.186382\n",
      "7  C_ID_dfa21fc124  -0.689412\n",
      "8  C_ID_fe0fdac8ea  -0.659095\n",
      "9  C_ID_bf62c0b49d  -0.616730\n",
      "-----------------------------------------------\n"
     ]
    }
   ],
   "source": [
    "# EXAMPLE OF FEATURE EXTRACTION: extracting the average purchase of each card id in the historical transactions for the training set\n",
    "\n",
    "train_feature_array = np.zeros(indices_train.shape[0])\n",
    "\n",
    "for i in range(indices_train.shape[0]):\n",
    "    testingarray = np.array(ht['purchase_amount'][int(indices_train[i,0]):int(indices_train[i,1])])\n",
    "    train_feature_array[i] = np.average(testingarray)\n",
    "    if(i % 10000 == 0): print(str(i) + \" out of \" + str(indices_train.shape[0])) #To keep track of progress\n",
    "\n",
    "new_train_features.insert(loc=new_train_features.columns.size, column=\"a feature\", value=train_feature_array, allow_duplicates=True)\n",
    "print(\"    Part of new train feature :\")\n",
    "print(new_train_features[:10])\n",
    "print(\"-----------------------------------------------\")"
   ]
  },
  {
   "cell_type": "code",
   "execution_count": 51,
   "metadata": {
    "collapsed": true
   },
   "outputs": [
    {
     "name": "stdout",
     "output_type": "stream",
     "text": [
      "0 out of 123623\n",
      "10000 out of 123623\n",
      "20000 out of 123623\n",
      "30000 out of 123623\n",
      "40000 out of 123623\n",
      "50000 out of 123623\n",
      "60000 out of 123623\n",
      "70000 out of 123623\n",
      "80000 out of 123623\n",
      "90000 out of 123623\n",
      "100000 out of 123623\n",
      "110000 out of 123623\n",
      "120000 out of 123623\n",
      "    Part of new test feature :\n",
      "           card_id  a feature\n",
      "0  C_ID_0ab67a22ab  -0.588557\n",
      "1  C_ID_130fd0cbdd  -0.695222\n",
      "2  C_ID_b709037bc5   0.104240\n",
      "3  C_ID_d27d835a9f  -0.644176\n",
      "4  C_ID_2b5e3df5c2  -0.630396\n",
      "5  C_ID_5814b4f13c  -0.721167\n",
      "6  C_ID_a1b3c75277  -0.708307\n",
      "7  C_ID_f7cada36d3  -0.686173\n",
      "8  C_ID_9d2bc8dfc4  -0.647032\n",
      "9  C_ID_6d8dba8475  -0.668954\n",
      "-----------------------------------------------\n"
     ]
    }
   ],
   "source": [
    "# EXAMPLE OF FEATURE EXTRACTION: extracting the average purchase of each card id in the historical transactions for the test set\n",
    "\n",
    "test_feature_array = np.zeros(indices_test.shape[0])\n",
    "\n",
    "for i in range(indices_test.shape[0]):\n",
    "    testingarray = np.array(ht['purchase_amount'][int(indices_test[i,0]):int(indices_test[i,1])])\n",
    "    test_feature_array[i] = np.average(testingarray)\n",
    "    if(i % 10000 == 0): print(str(i) + \" out of \" + str(indices_test.shape[0])) #To keep track of progress\n",
    "\n",
    "new_test_features.insert(loc=new_test_features.columns.size, column=\"a feature\", value=test_feature_array, allow_duplicates=True)\n",
    "print(\"    Part of new test feature :\")\n",
    "print(new_test_features[:10])\n",
    "print(\"-----------------------------------------------\")"
   ]
  },
  {
   "cell_type": "markdown",
   "metadata": {},
   "source": [
    "## Saving all new features to a new .csv file for each new feature in new_features\n",
    "Change save_names to save the feature columns under the correct name. They will be saved in the features folder as seperate .csv files"
   ]
  },
  {
   "cell_type": "code",
   "execution_count": 186,
   "metadata": {},
   "outputs": [],
   "source": [
    "# These are the names under which you want to save each feature column in new_features from left to right:\n",
    "save_names = ['category_3_is_A','category_3_is_B','category_3_is_C'] # for more feature columns, this would be like: ['new_feature_one', 'new_feature_two']"
   ]
  },
  {
   "cell_type": "code",
   "execution_count": 187,
   "metadata": {},
   "outputs": [
    {
     "name": "stdout",
     "output_type": "stream",
     "text": [
      "Test feature was saved under the name:\u001b[1mtest_feature_category_3_is_A.csv\u001b[0;0m\n",
      "Test feature was saved under the name:\u001b[1mtest_feature_category_3_is_B.csv\u001b[0;0m\n",
      "Test feature was saved under the name:\u001b[1mtest_feature_category_3_is_C.csv\u001b[0;0m\n",
      "Train feature was saved under the name:\u001b[1mtrain_feature_category_3_is_A.csv\u001b[0;0m\n",
      "Train feature was saved under the name:\u001b[1mtrain_feature_category_3_is_B.csv\u001b[0;0m\n",
      "Train feature was saved under the name:\u001b[1mtrain_feature_category_3_is_C.csv\u001b[0;0m\n"
     ]
    }
   ],
   "source": [
    "feature_dir = listdir(current_dir + \"/features\")\n",
    "\n",
    "if ('save_names' in locals() and len(save_names) == new_test_features.shape[1] - 1 and new_test_features.shape[1] == new_train_features.shape[1]):\n",
    "    feature[feature.columns[0]] = new_test_features[new_test_features.columns[0]]\n",
    "    for i in range(1,new_test_features.shape[1]):\n",
    "        feature[feature.columns[1]] = new_test_features[new_test_features.columns[i]]\n",
    "        feature.columns = ['card_id', save_names[i-1]]\n",
    "        save_name = 'test_feature_' + save_names[i-1] + '.csv'\n",
    "        feature_already_exists = False\n",
    "        for f in feature_dir:\n",
    "            if (f == save_name):\n",
    "                feature_already_exists = True\n",
    "                print('Test feature ' + '\\033[1m' + save_name + '\\033[0;0m' + ' was not saved, because it already exists.')\n",
    "        if not feature_already_exists:\n",
    "            feature.to_csv(current_dir + 'features/' + save_name, index = False)\n",
    "            print('Test feature was saved under the name:' + '\\033[1m' + save_name + '\\033[0;0m')\n",
    "    feature[feature.columns[0]] = new_train_features[new_train_features.columns[0]]\n",
    "    for i in range(1,new_train_features.shape[1]):\n",
    "        feature[feature.columns[1]] = new_train_features[new_train_features.columns[i]]\n",
    "        feature.columns = ['card_id', save_names[i-1]]\n",
    "        save_name = 'train_feature_' + save_names[i-1] + '.csv'\n",
    "        feature_already_exists = False\n",
    "        for f in feature_dir:\n",
    "            if (f == save_name):\n",
    "                feature_already_exists = True\n",
    "                print('Test feature ' + '\\033[1m' + save_name + '\\033[0;0m' + ' was not saved, because it already exists.')\n",
    "        if not feature_already_exists:\n",
    "            feature.to_csv(current_dir + 'features/' + save_name, index = False)\n",
    "            print('Train feature was saved under the name:' + '\\033[1m' + save_name + '\\033[0;0m')\n",
    "else:\n",
    "    print(\"The variable save_names does not exist, \\033[1mor\\033[0;0m there isn't an equal amount of features as save_names, \\033[1mor\\033[0;0m the new_test_features dataframe doesn't have an equal amount of column features as the new_train_features dataframe.\")"
   ]
  },
  {
   "cell_type": "code",
   "execution_count": null,
   "metadata": {},
   "outputs": [],
   "source": []
  }
 ],
 "metadata": {
  "kernelspec": {
   "display_name": "Python 3",
   "language": "python",
   "name": "python3"
  },
  "language_info": {
   "codemirror_mode": {
    "name": "ipython",
    "version": 3
   },
   "file_extension": ".py",
   "mimetype": "text/x-python",
   "name": "python",
   "nbconvert_exporter": "python",
   "pygments_lexer": "ipython3",
   "version": "3.6.5"
  }
 },
 "nbformat": 4,
 "nbformat_minor": 2
}
