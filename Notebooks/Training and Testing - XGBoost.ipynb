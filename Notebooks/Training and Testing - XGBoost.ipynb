{
 "cells": [
  {
   "cell_type": "code",
   "execution_count": 1,
   "metadata": {
    "scrolled": true
   },
   "outputs": [
    {
     "name": "stdout",
     "output_type": "stream",
     "text": [
      "/home/harry/Documents/customer-loyalty/\n"
     ]
    }
   ],
   "source": [
    "import os\n",
    "import datetime\n",
    "from os import listdir\n",
    "from os.path import isfile, join\n",
    "import pandas as pd\n",
    "import numpy as np\n",
    "from sklearn.linear_model import LinearRegression\n",
    "if 'current_dir' in locals():\n",
    "    print(\"Directory has been set before:\")\n",
    "else:\n",
    "    current_dir = os.getcwd()[:-9] \n",
    "print(current_dir)\n",
    "os.chdir(current_dir + '/scripts')\n",
    "import preprocessing\n",
    "os.chdir(current_dir)\n",
    "submission = pd.read_csv(current_dir + 'submissions/submission_v1.csv') #submission as template (version is not important)"
   ]
  },
  {
   "cell_type": "code",
   "execution_count": 2,
   "metadata": {},
   "outputs": [
    {
     "name": "stdout",
     "output_type": "stream",
     "text": [
      "/home/harry/Documents/customer-loyalty/scripts\n",
      "this is a test feature : test_feature_fam.csv\n",
      "this is a train feature : train_feature_fam.csv\n",
      "this is a train feature : train_feature_avg_purchase.csv\n"
     ]
    }
   ],
   "source": [
    "train_x, train_l, testset_x = preprocessing.load_data()"
   ]
  },
  {
   "cell_type": "markdown",
   "metadata": {},
   "source": [
    "## Training\n",
    "Training will be done in the following cells. First a random part of the training data is assigned as training set and the leftovers will be the validation set. By making the _trainsize_ variable round(train.shape[0]/1), the entirety of the training data is used as training set, so no evaluation will be done in the section _Testing within training set_."
   ]
  },
  {
   "cell_type": "code",
   "execution_count": 3,
   "metadata": {},
   "outputs": [],
   "source": [
    "# First XGBoost model for Pima Indians dataset\n",
    "from numpy import loadtxt\n",
    "os.environ['KMP_DUPLICATE_LIB_OK']='True'\n",
    "from xgboost import XGBClassifier\n",
    "from sklearn.model_selection import train_test_split\n",
    "from sklearn.metrics import accuracy_score\n"
   ]
  },
  {
   "cell_type": "code",
   "execution_count": 4,
   "metadata": {},
   "outputs": [],
   "source": [
    "model = XGBClassifier()"
   ]
  },
  {
   "cell_type": "code",
   "execution_count": null,
   "metadata": {},
   "outputs": [],
   "source": [
    "model.fit(train_x, train_l)"
   ]
  },
  {
   "cell_type": "markdown",
   "metadata": {},
   "source": [
    "## Predictions for test set (creating a submission .csv file)\n",
    "Make sure to use the entire training set in the the \"Training\" section"
   ]
  },
  {
   "cell_type": "code",
   "execution_count": null,
   "metadata": {},
   "outputs": [],
   "source": [
    "testset = np.array(testdata)\n",
    "testset_x = testset[:,2:features+2]\n",
    "# make predictions for test data\n",
    "y_pred = model.predict(testset_x)\n",
    "predictions = [round(value) for value in y_pred]\n",
    "submission.target = predictions\n",
    "# # evaluate predictions\n",
    "# accuracy = accuracy_score(y_test, predictions)\n",
    "# print(\"Accuracy: %.2f%%\" % (accuracy * 100.0))"
   ]
  },
  {
   "cell_type": "code",
   "execution_count": null,
   "metadata": {},
   "outputs": [],
   "source": [
    "# submission.target = submission_predictions\n",
    "\n",
    "for i in range(1,100,1):\n",
    "    if os.path.isfile('submissions/submission_v0-00' + str(i) + '.csv') == False:\n",
    "        submission.to_csv('submissions/submission_v0-00' + str(i) + '.csv', index = False)\n",
    "        print('Submission was saved under the name:' + '\\033[1m' ' submission_v0-00' + str(i) + '.csv' + '\\033[0;0m')\n",
    "        break\n",
    "\n",
    "# [Errno 13] Permission denied: 'submissions/submission_v0-001.csv'\n",
    "#        means that the file is still opened somewhere"
   ]
  },
  {
   "cell_type": "code",
   "execution_count": null,
   "metadata": {},
   "outputs": [],
   "source": [
    "# run this after previous cel to see the submission\n",
    "submission"
   ]
  },
  {
   "cell_type": "code",
   "execution_count": null,
   "metadata": {},
   "outputs": [],
   "source": []
  },
  {
   "cell_type": "code",
   "execution_count": null,
   "metadata": {},
   "outputs": [],
   "source": []
  }
 ],
 "metadata": {
  "kernelspec": {
   "display_name": "Python 3",
   "language": "python",
   "name": "python3"
  },
  "language_info": {
   "codemirror_mode": {
    "name": "ipython",
    "version": 3
   },
   "file_extension": ".py",
   "mimetype": "text/x-python",
   "name": "python",
   "nbconvert_exporter": "python",
   "pygments_lexer": "ipython3",
   "version": "3.7.2"
  }
 },
 "nbformat": 4,
 "nbformat_minor": 2
}
