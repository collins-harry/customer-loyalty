{
 "cells": [
  {
   "cell_type": "markdown",
   "metadata": {},
   "source": [
    "# Light GBM"
   ]
  },
  {
   "cell_type": "code",
   "execution_count": 1,
   "metadata": {
    "scrolled": true
   },
   "outputs": [
    {
     "name": "stdout",
     "output_type": "stream",
     "text": [
      "C:\\Users\\suhai\\Downloads\\Customer-Loyalty\\\n"
     ]
    }
   ],
   "source": [
    "import os\n",
    "import datetime\n",
    "from os import listdir\n",
    "from os.path import isfile, join\n",
    "import pandas as pd\n",
    "import numpy as np\n",
    "from sklearn.linear_model import LinearRegression\n",
    "if 'current_dir' in locals():\n",
    "    print(\"Directory has been set before:\")\n",
    "else:\n",
    "    current_dir = os.getcwd()[:-9] \n",
    "print(current_dir)\n",
    "os.chdir(current_dir + '/scripts')\n",
    "import preprocessing\n",
    "os.chdir(current_dir)\n",
    "submission = pd.read_csv(current_dir + 'submissions/submission_v1.csv') #submission as template (version is not important)"
   ]
  },
  {
   "cell_type": "code",
   "execution_count": 8,
   "metadata": {},
   "outputs": [
    {
     "name": "stdout",
     "output_type": "stream",
     "text": [
      "C:\\Users\\suhai\\Downloads\\Customer-Loyalty\n"
     ]
    }
   ],
   "source": [
    "train_x, train_l, testset_x = preprocessing.load_data(features=\"custom\", custom_features=[\"train_feature_fam.csv\",\"test_feature_fam.csv\"])"
   ]
  },
  {
   "cell_type": "code",
   "execution_count": 12,
   "metadata": {},
   "outputs": [
    {
     "name": "stdout",
     "output_type": "stream",
     "text": [
      "C:\\Users\\suhai\\Downloads\\Customer-Loyalty\n",
      "this is a test feature : test_feature_avg_purchases.csv\n",
      "this is a test feature : test_feature_fam.csv\n",
      "this is a test feature : test_feature_feature_1_is_1.csv\n",
      "this is a test feature : test_feature_feature_1_is_2.csv\n",
      "this is a test feature : test_feature_feature_1_is_3.csv\n",
      "this is a test feature : test_feature_feature_1_is_4.csv\n",
      "this is a test feature : test_feature_feature_1_is_5.csv\n",
      "this is a test feature : test_feature_feature_2_is_1.csv\n",
      "this is a test feature : test_feature_feature_2_is_2.csv\n",
      "this is a test feature : test_feature_feature_2_is_3.csv\n",
      "this is a train feature : train_feature_avg_purchases.csv\n",
      "this is a train feature : train_feature_fam.csv\n",
      "this is a train feature : train_feature_feature_1_is_1.csv\n",
      "this is a train feature : train_feature_feature_1_is_2.csv\n",
      "this is a train feature : train_feature_feature_1_is_3.csv\n",
      "this is a train feature : train_feature_feature_1_is_4.csv\n",
      "this is a train feature : train_feature_feature_1_is_5.csv\n",
      "this is a train feature : train_feature_feature_2_is_1.csv\n",
      "this is a train feature : train_feature_feature_2_is_2.csv\n",
      "this is a train feature : train_feature_feature_2_is_3.csv\n"
     ]
    }
   ],
   "source": [
    "train_x, train_l, testset_x = preprocessing.load_data(features=\"all\")"
   ]
  },
  {
   "cell_type": "code",
   "execution_count": 13,
   "metadata": {},
   "outputs": [
    {
     "data": {
      "text/plain": [
       "3.840522082696508"
      ]
     },
     "execution_count": 13,
     "metadata": {},
     "output_type": "execute_result"
    }
   ],
   "source": [
    "import lightgbm as lgb\n",
    "from sklearn.model_selection import KFold\n",
    "from sklearn.metrics import mean_squared_error\n",
    "# Prepare data for training\n",
    "X = train_x\n",
    "y = train_l\n",
    "\n",
    "# Split data with kfold\n",
    "kfolds = KFold(n_splits=8, shuffle=True, random_state=2018)\n",
    "\n",
    "oof_preds = np.zeros(X.shape[0])\n",
    "sub_preds = np.zeros(testset_x.shape[0])\n",
    "\n",
    "for n_fold, (trn_idx, val_idx) in enumerate(kfolds.split(X, y)):\n",
    "    X_train, y_train = X[trn_idx], y[trn_idx]\n",
    "    X_valid, y_valid = X[val_idx], y[val_idx]\n",
    "    \n",
    "    # LightGBM Regressor estimator\n",
    "    model = lgb.LGBMRegressor(\n",
    "        num_leaves = 33,\n",
    "        learning_rate = 0.05,\n",
    "        n_estimators = 1000,\n",
    "        subsample = .9,\n",
    "        colsample_bytree = .9,\n",
    "        random_state = 100,\n",
    "        booster = \"gbdt\",\n",
    "        eval_metric = \"rmse\",\n",
    "        nthread = 10,\n",
    "        nrounds = 1500,\n",
    "        max_depth = 7,\n",
    "        max_bin = 500,\n",
    "    )\n",
    "    \n",
    "    # Fit\n",
    "    model.fit(\n",
    "        X_train, y_train,\n",
    "        eval_set=[(X_train, y_train), (X_valid, y_valid)],\n",
    "        verbose=None, eval_metric='rmse',\n",
    "        early_stopping_rounds=100\n",
    "    )\n",
    "\n",
    "    oof_preds[val_idx] = model.predict(X_valid, num_iteration=model.best_iteration_)\n",
    "    test_preds = model.predict(testset_x, num_iteration=model.best_iteration_)\n",
    "    sub_preds += test_preds / kfolds.n_splits\n",
    "    predictions = [round(value) for value in sub_preds]\n",
    "    submission.target = predictions\n",
    "    \n",
    "mean_squared_error(y, oof_preds) ** .5"
   ]
  },
  {
   "cell_type": "code",
   "execution_count": 14,
   "metadata": {},
   "outputs": [
    {
     "data": {
      "text/plain": [
       "-0.0    86065\n",
       "-1.0    37482\n",
       "-2.0       63\n",
       "-3.0       12\n",
       "-4.0        1\n",
       "Name: target, dtype: int64"
      ]
     },
     "execution_count": 14,
     "metadata": {},
     "output_type": "execute_result"
    }
   ],
   "source": [
    "# run this after previous cel to see the submission\n",
    "submission.target.value_counts()"
   ]
  },
  {
   "cell_type": "code",
   "execution_count": 15,
   "metadata": {},
   "outputs": [
    {
     "name": "stdout",
     "output_type": "stream",
     "text": [
      "Submission was saved under the name:\u001b[1m submission_v0-006.csv\u001b[0;0m\n"
     ]
    }
   ],
   "source": [
    "# submission.target = submission_predictions\n",
    "\n",
    "for i in range(1,100,1):\n",
    "    if os.path.isfile('submissions/submission_v0-00' + str(i) + '.csv') == False:\n",
    "        submission.to_csv('submissions/submission_v0-00' + str(i) + '.csv', index = False)\n",
    "        print('Submission was saved under the name:' + '\\033[1m' ' submission_v0-00' + str(i) + '.csv' + '\\033[0;0m')\n",
    "        break\n",
    "\n",
    "# [Errno 13] Permission denied: 'submissions/submission_v0-001.csv'\n",
    "#        means that the file is still opened somewhere"
   ]
  }
 ],
 "metadata": {
  "kernelspec": {
   "display_name": "Python 3",
   "language": "python",
   "name": "python3"
  },
  "language_info": {
   "codemirror_mode": {
    "name": "ipython",
    "version": 3
   },
   "file_extension": ".py",
   "mimetype": "text/x-python",
   "name": "python",
   "nbconvert_exporter": "python",
   "pygments_lexer": "ipython3",
   "version": "3.6.5"
  }
 },
 "nbformat": 4,
 "nbformat_minor": 2
}
